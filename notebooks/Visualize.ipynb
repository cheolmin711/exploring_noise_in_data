{
 "cells": [
  {
   "cell_type": "markdown",
   "id": "47a304ef",
   "metadata": {},
   "source": [
    "## Results Visualizer\n",
    "\n",
    "Run the cell below to show all results.\n",
    "\n",
    "Adding parameters to the `display_results()` function will print the specified charts.\n",
    "\n",
    "For example:\n",
    "> `display_results('kernel', 'all')` will display kernels with all types of corruption.\n",
    "\n",
    "> `display_results('all, 'label')` will display all models with label corruption.\n",
    "\n",
    "> `display_results('forest', 'random')` will only display forests with random data corruption.\n",
    "\n",
    "Furthermore, using `display_results(save_figs = True)` will save each chart in the `figs` directory."
   ]
  },
  {
   "cell_type": "code",
   "execution_count": null,
   "id": "b22dac67",
   "metadata": {
    "scrolled": false
   },
   "outputs": [],
   "source": [
    "from viz_utils.results_viewer import display_results \n",
    "display_results()"
   ]
  },
  {
   "cell_type": "code",
   "execution_count": null,
   "id": "b4eca373",
   "metadata": {
    "scrolled": true
   },
   "outputs": [],
   "source": []
  }
 ],
 "metadata": {
  "kernelspec": {
   "display_name": "Python 3 (ipykernel)",
   "language": "python",
   "name": "python3"
  },
  "language_info": {
   "codemirror_mode": {
    "name": "ipython",
    "version": 3
   },
   "file_extension": ".py",
   "mimetype": "text/x-python",
   "name": "python",
   "nbconvert_exporter": "python",
   "pygments_lexer": "ipython3",
   "version": "3.9.5"
  }
 },
 "nbformat": 4,
 "nbformat_minor": 5
}
